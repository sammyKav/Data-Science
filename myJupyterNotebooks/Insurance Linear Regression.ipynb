{
 "cells": [
  {
   "cell_type": "markdown",
   "id": "0f732638",
   "metadata": {},
   "source": [
    "# Insurance Linear Regression"
   ]
  },
  {
   "cell_type": "code",
   "execution_count": 230,
   "id": "d4c852e6",
   "metadata": {},
   "outputs": [],
   "source": [
    "import numpy as np\n",
    "import matplotlib.pyplot as plt \n",
    "import pandas as pd\n",
    "import seaborn as sns\n",
    "import os\n",
    "%matplotlib inline"
   ]
  },
  {
   "cell_type": "code",
   "execution_count": 231,
   "id": "876b7ba8",
   "metadata": {},
   "outputs": [],
   "source": [
    "insurance = pd.read_csv(\"C:\\\\Users\\\\14236\\\\Documents\\\\GitHub\\\\Data-Science\\\\myJupyterNotebooks\\\\data\\\\insuranceData.csv\")"
   ]
  },
  {
   "cell_type": "code",
   "execution_count": 242,
   "id": "748e185d",
   "metadata": {},
   "outputs": [
    {
     "data": {
      "text/plain": [
       "array(['yes', 'no'], dtype=object)"
      ]
     },
     "execution_count": 242,
     "metadata": {},
     "output_type": "execute_result"
    }
   ],
   "source": [
    "insurance.smoker.unique()"
   ]
  },
  {
   "cell_type": "code",
   "execution_count": 244,
   "id": "b4d7e696",
   "metadata": {},
   "outputs": [],
   "source": [
    "X = insurance.iloc[:,:-1].values # take every row except the last column\n",
    "y = insurance.iloc[:,4].values "
   ]
  },
  {
   "cell_type": "code",
   "execution_count": 234,
   "id": "654fe166",
   "metadata": {},
   "outputs": [
    {
     "data": {
      "text/plain": [
       "<AxesSubplot:>"
      ]
     },
     "execution_count": 234,
     "metadata": {},
     "output_type": "execute_result"
    },
    {
     "data": {
      "image/png": "[encoded data removed]",
      "text/plain": [
       "<Figure size 432x288 with 2 Axes>"
      ]
     },
     "metadata": {
      "needs_background": "light"
     },
     "output_type": "display_data"
    }
   ],
   "source": [
    "sns.heatmap(insurance.corr()) # look at the correlation plot "
   ]
  },
  {
   "cell_type": "code",
   "execution_count": 235,
   "id": "a6704e5f",
   "metadata": {},
   "outputs": [],
   "source": [
    "from sklearn.preprocessing import LabelEncoder, OneHotEncoder\n"
   ]
  },
  {
   "cell_type": "code",
   "execution_count": 245,
   "id": "d91fdf61",
   "metadata": {},
   "outputs": [
    {
     "name": "stdout",
     "output_type": "stream",
     "text": [
      "  (0, 0)\t1.0\n",
      "  (0, 242)\t1.0\n",
      "  (0, 598)\t1.0\n",
      "  (1, 395)\t1.0\n",
      "  (1, 593)\t1.0\n",
      "  (2, 9)\t1.0\n",
      "  (2, 376)\t1.0\n",
      "  (2, 595)\t1.0\n",
      "  (3, 14)\t1.0\n",
      "  (3, 118)\t1.0\n",
      "  (4, 13)\t1.0\n",
      "  (4, 268)\t1.0\n",
      "  (5, 12)\t1.0\n",
      "  (5, 189)\t1.0\n",
      "  (6, 27)\t1.0\n",
      "  (6, 387)\t1.0\n",
      "  (6, 593)\t1.0\n",
      "  (7, 18)\t1.0\n",
      "  (7, 238)\t1.0\n",
      "  (7, 595)\t1.0\n",
      "  (8, 18)\t1.0\n",
      "  (8, 295)\t1.0\n",
      "  (8, 594)\t1.0\n",
      "  (9, 41)\t1.0\n",
      "  (9, 192)\t1.0\n",
      "  :\t:\n",
      "  (1327, 593)\t1.0\n",
      "  (1328, 4)\t1.0\n",
      "  (1328, 154)\t1.0\n",
      "  (1328, 594)\t1.0\n",
      "  (1329, 33)\t1.0\n",
      "  (1329, 500)\t1.0\n",
      "  (1329, 594)\t1.0\n",
      "  (1330, 38)\t1.0\n",
      "  (1330, 189)\t1.0\n",
      "  (1330, 594)\t1.0\n",
      "  (1331, 4)\t1.0\n",
      "  (1331, 386)\t1.0\n",
      "  (1332, 33)\t1.0\n",
      "  (1332, 571)\t1.0\n",
      "  (1332, 595)\t1.0\n",
      "  (1333, 31)\t1.0\n",
      "  (1333, 321)\t1.0\n",
      "  (1333, 595)\t1.0\n",
      "  (1334, 347)\t1.0\n",
      "  (1335, 467)\t1.0\n",
      "  (1336, 2)\t1.0\n",
      "  (1336, 191)\t1.0\n",
      "  (1337, 42)\t1.0\n",
      "  (1337, 274)\t1.0\n",
      "  (1337, 598)\t1.0\n"
     ]
    }
   ],
   "source": [
    "labelencoder = LabelEncoder()\n",
    "X[:,3] = labelencoder.fit_transform(X[:,3])\n",
    "\n",
    "encoder = OneHotEncoder(drop = 'first', sparse ='False')\n",
    "onehot = encoder.fit_transform(X)\n",
    "print(onehot)"
   ]
  },
  {
   "cell_type": "code",
   "execution_count": 224,
   "id": "e52ef602",
   "metadata": {},
   "outputs": [],
   "source": [
    "X = X[:,1:] # removing extra column when did yoour encoding. "
   ]
  },
  {
   "cell_type": "code",
   "execution_count": 246,
   "id": "4a2a6bdb",
   "metadata": {},
   "outputs": [],
   "source": [
    "from sklearn.model_selection import train_test_split # split the data into training and test set. To fit the model.\n",
    "X_train, X_test, y_train, y_test = train_test_split(X,y,test_size = 0.15, random_state = 0)"
   ]
  },
  {
   "cell_type": "code",
   "execution_count": 247,
   "id": "48bd77f5",
   "metadata": {},
   "outputs": [],
   "source": [
    "from sklearn.linear_model import LinearRegression\n",
    "regressor = LinearRegression() \n",
    "regressor.fit(X_train, y_train) # train the model to get coefficients\n",
    "\n",
    "y_pred = regressor.predict(X_test)\n",
    "# take a look at the coefficients\n"
   ]
  },
  {
   "cell_type": "code",
   "execution_count": 248,
   "id": "27de38fc",
   "metadata": {},
   "outputs": [
    {
     "name": "stdout",
     "output_type": "stream",
     "text": [
      "-11910.538156786171\n"
     ]
    }
   ],
   "source": [
    "print(regressor.intercept_)"
   ]
  },
  {
   "cell_type": "code",
   "execution_count": 249,
   "id": "1ae129a2",
   "metadata": {},
   "outputs": [],
   "source": [
    "from sklearn.metrics import r2_score"
   ]
  },
  {
   "cell_type": "code",
   "execution_count": 250,
   "id": "48f5cc40",
   "metadata": {},
   "outputs": [
    {
     "data": {
      "text/plain": [
       "0.7978274606303823"
      ]
     },
     "execution_count": 250,
     "metadata": {},
     "output_type": "execute_result"
    }
   ],
   "source": [
    "r2_score(y_test, y_pred) # test how well the model predicts on the test set. "
   ]
  },
  {
   "cell_type": "code",
   "execution_count": null,
   "id": "32b836fd",
   "metadata": {},
   "outputs": [],
   "source": []
  },
  {
   "cell_type": "code",
   "execution_count": null,
   "id": "41d7f394",
   "metadata": {},
   "outputs": [],
   "source": []
  }
 ],
 "metadata": {
  "kernelspec": {
   "display_name": "Python 3",
   "language": "python",
   "name": "python3"
  },
  "language_info": {
   "codemirror_mode": {
    "name": "ipython",
    "version": 3
   },
   "file_extension": ".py",
   "mimetype": "text/x-python",
   "name": "python",
   "nbconvert_exporter": "python",
   "pygments_lexer": "ipython3",
   "version": "3.8.8"
  }
 },
 "nbformat": 4,
 "nbformat_minor": 5
}
